{
  "cells": [
    {
      "cell_type": "markdown",
      "metadata": {
        "id": "view-in-github",
        "colab_type": "text"
      },
      "source": [
        "<a href=\"https://colab.research.google.com/github/HeavenlyRaven/GraphProject/blob/main/notebooks/Astrophysics%20articles%20graph%20analysis.ipynb\" target=\"_parent\"><img src=\"https://colab.research.google.com/assets/colab-badge.svg\" alt=\"Open In Colab\"/></a>"
      ]
    },
    {
      "cell_type": "markdown",
      "id": "9ef3e992",
      "metadata": {
        "id": "9ef3e992"
      },
      "source": [
        "# Анализ графа соавторства статей в области астрофизики\n",
        "\n",
        "### Выполнил студент третьего курса программы \"Программирование и информационные технологи\" Погребнов Е. А.\n",
        "\n",
        "Для анализа графа будем использовать язык программирования **Python** вместе с библиотекой **NetworkX** (один из самых известных пакетов языка для работы с графовыми структурами). Помимо этого, мы также будем использовать библиотеку **NumPy** для работы с многомерными массивами и библиотеку **Matplotlib** для отрисовки графиков.\n",
        "\n",
        "Сперва склонируем исходный репозиторий с нашим датасетом и конфигурационными файлами для подгрузки необходимых пакетов:"
      ]
    },
    {
      "cell_type": "code",
      "execution_count": null,
      "id": "ca761236",
      "metadata": {
        "id": "ca761236"
      },
      "outputs": [],
      "source": [
        "%%capture\n",
        "!git clone https://github.com/HeavenlyRaven/GraphProject"
      ]
    },
    {
      "cell_type": "markdown",
      "id": "907dbc6c",
      "metadata": {
        "id": "907dbc6c"
      },
      "source": [
        "Теперь установим все необходимые зависимости (при запуске в Google Colab этот шаг можно пропустить):"
      ]
    },
    {
      "cell_type": "code",
      "source": [
        "!pip3 intsall -r requirements.txt"
      ],
      "metadata": {
        "id": "fgmkpew7ZQOb"
      },
      "id": "fgmkpew7ZQOb",
      "execution_count": null,
      "outputs": []
    },
    {
      "cell_type": "markdown",
      "source": [
        "Для удобства дальнейшей работы переместимся дополнительно в нашу директорию проекта:"
      ],
      "metadata": {
        "id": "CeFuZWszh0Vn"
      },
      "id": "CeFuZWszh0Vn"
    },
    {
      "cell_type": "code",
      "source": [
        "%cd GraphProject"
      ],
      "metadata": {
        "id": "lpu6Qho-hgJd",
        "colab": {
          "base_uri": "https://localhost:8080/"
        },
        "outputId": "fd7ed0b6-478e-4892-cc27-c187b0dbbf49"
      },
      "id": "lpu6Qho-hgJd",
      "execution_count": null,
      "outputs": [
        {
          "output_type": "stream",
          "name": "stdout",
          "text": [
            "/content/GraphProject\n"
          ]
        }
      ]
    },
    {
      "cell_type": "markdown",
      "source": [
        "## Чтение графа из файла как списка ребёр\n",
        "\n",
        "Для того, чтобы прочитать наш граф и сохранить его в качестве класса *Graph*, с которым работает NetworX, используем функцию *read_edgelist*, передав в неё в качестве аргументов имя файла нашего датасета, а так же символ, обозначающий начало комментария."
      ],
      "metadata": {
        "id": "umvl8i77aHz-"
      },
      "id": "umvl8i77aHz-"
    },
    {
      "cell_type": "code",
      "source": [
        "import networkx as nx\n",
        "\n",
        "# Читаем неориентированный граф из текстового файла со списком рёбер\n",
        "G = nx.read_edgelist('datasets/CA-AstroPh.txt', comments='#')"
      ],
      "metadata": {
        "id": "dsCeoZ2fbsPD"
      },
      "id": "dsCeoZ2fbsPD",
      "execution_count": null,
      "outputs": []
    },
    {
      "cell_type": "markdown",
      "source": [
        ">*Примечание*: Важно помнить, что класс *Graph* на самом деле представляет собой *Псевдограф*, то есть неориентированный граф, в котором разрешены петли, но не разрешены кратные рёбра. В дальнейшейм нам придётся это учитывать."
      ],
      "metadata": {
        "id": "GVCDH_LKc01j"
      },
      "id": "GVCDH_LKc01j"
    },
    {
      "cell_type": "markdown",
      "source": [
        "## Число ребёр и вершин в графе, плотность графа\n",
        "\n",
        "Для того, чтобы определить простейшие количественные характеристики нашего графа: число его вершин, число ребёр, а также плотность (отношение числа рёбер к максимально возможному числу рёбер), воспользуемся соответственно функциями *number_of_nodes*, *number_of_edges*, *density*:"
      ],
      "metadata": {
        "id": "nPJtsJAAZjDA"
      },
      "id": "nPJtsJAAZjDA"
    },
    {
      "cell_type": "code",
      "source": [
        "V = nx.number_of_nodes(G) # Количество вершин в графе\n",
        "E = nx.number_of_edges(G) # Количество рёбер в графе\n",
        "density = nx.density(G)   # Плотность графа"
      ],
      "metadata": {
        "id": "_SaUnT94ZtPS"
      },
      "id": "_SaUnT94ZtPS",
      "execution_count": null,
      "outputs": []
    },
    {
      "cell_type": "markdown",
      "source": [
        "Вычислить плотность графа можно также по формуле:\n",
        "\n",
        "$$density(G) = \\frac{2|E|}{|V|(|V|-1)}$$\n",
        "\n",
        "Проведём проверку функции из NetworkX:"
      ],
      "metadata": {
        "id": "0vENAfjPjHiB"
      },
      "id": "0vENAfjPjHiB"
    },
    {
      "cell_type": "code",
      "source": [
        "True if density == 2*E/(V*(V-1)) else False"
      ],
      "metadata": {
        "colab": {
          "base_uri": "https://localhost:8080/"
        },
        "id": "Ujj9PUgHj-LQ",
        "outputId": "9b746011-7990-4bb6-c065-21d2963f5af5"
      },
      "id": "Ujj9PUgHj-LQ",
      "execution_count": null,
      "outputs": [
        {
          "output_type": "execute_result",
          "data": {
            "text/plain": [
              "True"
            ]
          },
          "metadata": {},
          "execution_count": 5
        }
      ]
    },
    {
      "cell_type": "markdown",
      "source": [
        "## Число компонент слабой связности, доля вершин в максимальной по мощности компоненте слабой связности\n",
        "\n",
        "Для подсчёта компонент слабой связности (или просто компонент связности для неориентированного графа) мы можем воспользоваться функцией *number_connected_components*:"
      ],
      "metadata": {
        "id": "nFBqOBoAkZj8"
      },
      "id": "nFBqOBoAkZj8"
    },
    {
      "cell_type": "code",
      "source": [
        "number_of_CC = nx.number_connected_components(G) # Число компонент связности графа"
      ],
      "metadata": {
        "id": "tlylnwdKlXas"
      },
      "id": "tlylnwdKlXas",
      "execution_count": null,
      "outputs": []
    },
    {
      "cell_type": "markdown",
      "source": [
        "Для того, чтобы вычислить долю вершин в максимальной по мощности компоненте связности, воспользуемся функцией *connected_components*, возвращающей генератор компонент связности графа:"
      ],
      "metadata": {
        "id": "995UlnL5mQPj"
      },
      "id": "995UlnL5mQPj"
    },
    {
      "cell_type": "code",
      "source": [
        "LCC_nodes = max(nx.connected_components(G), key=len) # Множество вершин максимальной по мощности компоненты связности\n",
        "LCC_vertices_fraction = len(LCC_nodes)/V             # Доля вершин в максимальной по мощности компоненте связности"
      ],
      "metadata": {
        "id": "WcowZg1dmlE1"
      },
      "id": "WcowZg1dmlE1",
      "execution_count": null,
      "outputs": []
    },
    {
      "cell_type": "markdown",
      "source": [
        "## Оценка радиуса, диаметра и 90-процентиля расстояния между вершинами для наибольшей компоненты слабой связности \n",
        "\n",
        "Для начала выберем N (в исходном задании N = 500) случайных вершин из множества всех вершин нашей наибольшей компоненты связности. Для расстояний между ними мы и будем проводить наши оценки.\n",
        "\n",
        "Для этого воспользуемся функцией *sample* из встроенного модуля **random**.\n",
        "\n",
        ">*Примечание*: мы конвертируем наше множество вершин в кортеж, так как в новых версиях Python взятие выборки из множества считается плохой практикой"
      ],
      "metadata": {
        "id": "7bjEbaVVoAyQ"
      },
      "id": "7bjEbaVVoAyQ"
    },
    {
      "cell_type": "code",
      "source": [
        "from random import sample\n",
        "\n",
        "N = 500\n",
        "# Конструируем выборку из N случайных вершин нашей наибольшей компоненты связности\n",
        "N_random_LCC_nodes = sample(tuple(LCC_nodes), N)"
      ],
      "metadata": {
        "id": "RmXciiM1pY7L"
      },
      "id": "RmXciiM1pY7L",
      "execution_count": null,
      "outputs": []
    },
    {
      "cell_type": "markdown",
      "source": [
        "Теперь построим матрицу расстояний для наших выбраных вершин. Вычисления её значений можно сократить в два раза за счёт симметричности, чем мы и воспользуемся. Заполнять, однако, мы будем её полностью для более простого и наглядного вычисления эксцентриситетов.\n",
        "\n",
        "Для работы с матрицами удобно использовать NumPy. Так давайте же имортируем его!"
      ],
      "metadata": {
        "id": "dOGtA7nsrc1s"
      },
      "id": "dOGtA7nsrc1s"
    },
    {
      "cell_type": "code",
      "source": [
        "import numpy as np\n",
        "\n",
        "# Для улучшения производительности создаём \"пустой\" двумерный массив\n",
        "LCC_sample_distance_matrix = np.empty(shape=(N, N), dtype=int) "
      ],
      "metadata": {
        "id": "03zUWFYGsIA6"
      },
      "id": "03zUWFYGsIA6",
      "execution_count": null,
      "outputs": []
    },
    {
      "cell_type": "markdown",
      "source": [
        "Для того, чтобы вычислять расстояния между вершинами воспользуемся функцией *shortest_path_length*, использующей по умолчанию [Алгоритм Дейкстры](https://en.wikipedia.org/wiki/Dijkstra%27s_algorithm).\n",
        "\n",
        "По мере заполнения нашей матрицы будем параллельно вычислять эксцентриситеты и заполнять список расстояний с помощью функции вставки в отсрортированный список *insort* из модуля **bisect**, который понадобится нам для вычисления 90-процентиля рассстояния между нашими выбранными вершинами."
      ],
      "metadata": {
        "id": "PYD9-ly9tyg4"
      },
      "id": "PYD9-ly9tyg4"
    },
    {
      "cell_type": "code",
      "source": [
        "from bisect import insort\n",
        "\n",
        "LCC_sample_eccentricities = [] # Список эксцентриситетов\n",
        "LCC_sample_distances = []      # Список расстояний (поддерживаем отсортированным)\n",
        "\n",
        "for i in range(N):\n",
        "    for j in range(i, N):\n",
        "        # Если элемент находится на диагонали (расстояние между узлом и самим собой)\n",
        "        if i == j:\n",
        "            # Записываем сразу ноль в ячейку нашей матрицы расстояний\n",
        "            LCC_sample_distance_matrix[i][i] = 0\n",
        "        # В противном случае\n",
        "        else:\n",
        "            # Вычисляем расстояние между вершинами\n",
        "            distance = nx.shortest_path_length(G, N_random_LCC_nodes[i], N_random_LCC_nodes[j])\n",
        "            # Заполняем симметрично матрицу расстояний\n",
        "            LCC_sample_distance_matrix[i][j] = LCC_sample_distance_matrix[j][i] = distance\n",
        "            # Добавляем расстояние в наш отсортированный список расстояний\n",
        "            insort(LCC_sample_distances, distance)\n",
        "    # Эксцентриситет вершины вычисляем как наибольшее растояние из неё до любой другой\n",
        "    LCC_sample_eccentricities.append(max(LCC_sample_distance_matrix[i]))"
      ],
      "metadata": {
        "id": "ueAzE901yF4Z"
      },
      "id": "ueAzE901yF4Z",
      "execution_count": null,
      "outputs": []
    },
    {
      "cell_type": "markdown",
      "source": [
        "Теперь мы с лёгкостью можем произвести наши оценки для радиуса и диаметра нашей наибольшей компоненты связности:"
      ],
      "metadata": {
        "id": "A0gA1OZF0g4T"
      },
      "id": "A0gA1OZF0g4T"
    },
    {
      "cell_type": "code",
      "source": [
        "# Радиус вычисляется как минимальный эксцентриситет среди всех вершин\n",
        "LCC_sample_radius = min(LCC_sample_eccentricities)\n",
        "# Диаметр вычисляется как максимальный эксцентриситет среди всех вершин\n",
        "LCC_sample_diameter = max(LCC_sample_eccentricities)"
      ],
      "metadata": {
        "id": "XO5DW6Vx0rFN"
      },
      "id": "XO5DW6Vx0rFN",
      "execution_count": null,
      "outputs": []
    },
    {
      "cell_type": "markdown",
      "source": [
        "Теперь вычислим наш 90-процентиль расстояния между вершинами, то есть такое значение расстояния между вершинами, что 90% всех остальных значений из нашей выборки расстояний будет меньше или равно ему.\n",
        "\n",
        "Так как наш список расстояний уже отсортирован, то просто округлим значение, полученное с помощью умножения 0.9 на количество элементов в нём, и используем его в качестве индекса, чтобы получить значение нашего процентиля."
      ],
      "metadata": {
        "id": "bfEt9Qps1eBE"
      },
      "id": "bfEt9Qps1eBE"
    },
    {
      "cell_type": "code",
      "source": [
        "LCC_sample_distance_ninety_percentile = LCC_sample_distances[round((N*(N-1)//2)*0.9)]"
      ],
      "metadata": {
        "id": "KtDnvm9n3vM-"
      },
      "id": "KtDnvm9n3vM-",
      "execution_count": null,
      "outputs": []
    },
    {
      "cell_type": "markdown",
      "source": [
        "## Число треугольников, средний и глобальный кластерный коэффициенты\n",
        "\n",
        "Для вычисления числа *треугольников* (полных подграфов на трёх вершинах) воспользуемся функцией *triangles*.\n",
        "\n",
        ">*Примечение*: Функция *triangles* возвращает словарь с вершинами в качестве ключей и количеством треугольников, в которые входят эти вершины, в качестве значений. Так что каждый треугольник, по сути, считается три раза."
      ],
      "metadata": {
        "id": "BoWofYD74axU"
      },
      "id": "BoWofYD74axU"
    },
    {
      "cell_type": "code",
      "source": [
        "# Используем целочисленное деление, так как работаем с целыми числами\n",
        "number_of_triangles = sum(nx.triangles(G).values())//3"
      ],
      "metadata": {
        "id": "P5LkSv4O7KUa"
      },
      "id": "P5LkSv4O7KUa",
      "execution_count": null,
      "outputs": []
    },
    {
      "cell_type": "markdown",
      "source": [
        "Для вычисления среднего кластерного коэффициента в NetworkX есть очень удобная функция *average_clustering*:"
      ],
      "metadata": {
        "id": "lt918xNH8DOr"
      },
      "id": "lt918xNH8DOr"
    },
    {
      "cell_type": "code",
      "source": [
        "average_clustering_coefficient = nx.average_clustering(G)"
      ],
      "metadata": {
        "id": "cMeGXrhU8PLw"
      },
      "id": "cMeGXrhU8PLw",
      "execution_count": null,
      "outputs": []
    },
    {
      "cell_type": "markdown",
      "source": [
        "Вычислить *средний кластерный коэффициент* можно по формуле:\n",
        "\n",
        "$$\\overline{Cl} = \\frac{1}{|V|}\\sum_{v \\in V} Cl_v,$$\n",
        "\n",
        "где $Cl_v$ — *локальный кластерный коэффициент вершины*, вычисляемый как отношение треугольников, в которые входит вершина $v$ к числу всех \"возможных треугольников\", которые можно построить на этой вершине (числу открытых и закрытых триплетов):\n",
        "\n",
        "$$Cl_v = \\begin{cases}\n",
        "\\frac{2T(v)}{deg(v)(deg(v)-1)},~~deg(v) \\ge 2\\\\\n",
        "0,~~~~~~~~~~~~~~~~~~~~~~ 0 \\le deg(v) < 2\n",
        "\\end{cases}$$\n",
        "\n",
        "Для вычисления локальных кластерных коэффициентов в NetworkX тоже есть функция, которая называется *clustering*. Произведём с помощью неё проверку вычисления нашего среднего кластерного коэффициента:\n",
        "\n",
        ">*Примечание*: петли в данном случае игнорируются"
      ],
      "metadata": {
        "id": "_PaP1ALp8Zu5"
      },
      "id": "_PaP1ALp8Zu5"
    },
    {
      "cell_type": "code",
      "source": [
        "True if average_clustering_coefficient == sum(nx.clustering(G).values())/V else False"
      ],
      "metadata": {
        "colab": {
          "base_uri": "https://localhost:8080/"
        },
        "id": "rnPgObdk_d8U",
        "outputId": "ccefb348-9004-4cbf-d7fc-f89e04be46be"
      },
      "id": "rnPgObdk_d8U",
      "execution_count": null,
      "outputs": [
        {
          "output_type": "execute_result",
          "data": {
            "text/plain": [
              "True"
            ]
          },
          "metadata": {},
          "execution_count": 15
        }
      ]
    },
    {
      "cell_type": "markdown",
      "source": [
        "*Глобальный кластерный коэффициент* же вычисляется похожим образом. Он равен отношению числа закрытых триплетов (или, что то же самое, утроенному числу треугольников) к отношению числа открытых и закрытых триплетов.\n",
        "\n",
        "Также глобальный кластерный коэффициент иногда называют *транзитивностью*. Именно так и названа функция, которая вычисляет его в NetworkX:"
      ],
      "metadata": {
        "id": "hAFBsAqwAEXQ"
      },
      "id": "hAFBsAqwAEXQ"
    },
    {
      "cell_type": "code",
      "source": [
        "transitivity = nx.transitivity(G)"
      ],
      "metadata": {
        "id": "TkLKcNn-BEXJ"
      },
      "id": "TkLKcNn-BEXJ",
      "execution_count": null,
      "outputs": []
    },
    {
      "cell_type": "markdown",
      "source": [
        "Проверим наши вычисления с помощью метода *Graph.degree*, позволяющего вычислять степени вершин графа в NetworkX. Учтём, что в таком случае нам нужно будет самим игнорировать петли. Благо, мы легко можем это реализовать с помощью метода *Graph.neighbors*, принимающего в качестве аргумента вершину графа и возвращающего итератор по её соседям. Нам нужно лишь на каждом шаге делать проверку принадлежности вершины своим соседям и уменьшать её степень на два, если мы обнаруживаем петлю."
      ],
      "metadata": {
        "id": "dHMQ5-VLBLB1"
      },
      "id": "dHMQ5-VLBLB1"
    },
    {
      "cell_type": "code",
      "source": [
        "# Одну вторую выносим из-под суммы в знаменателе\n",
        "global_clustering_coefficient = 2*sum(nx.triangles(G).values())/sum(((d-2)*(d-3) if n in G.neighbors(n) else d*(d-1) for n, d in G.degree()))\n",
        "\n",
        "True if transitivity == global_clustering_coefficient else False"
      ],
      "metadata": {
        "colab": {
          "base_uri": "https://localhost:8080/"
        },
        "id": "-XDTQXy7BZfs",
        "outputId": "1a1a50e0-a7ed-44d7-8eb7-f75761b703f5"
      },
      "id": "-XDTQXy7BZfs",
      "execution_count": null,
      "outputs": [
        {
          "output_type": "execute_result",
          "data": {
            "text/plain": [
              "True"
            ]
          },
          "metadata": {},
          "execution_count": 25
        }
      ]
    },
    {
      "cell_type": "markdown",
      "source": [
        "Видим, что оценки совпадают"
      ],
      "metadata": {
        "id": "qrb1pxeHBo51"
      },
      "id": "qrb1pxeHBo51"
    },
    {
      "cell_type": "markdown",
      "source": [
        "## Минимальная, максимальная и средняя степень узла в графе. Функции вероятности для степеней вершин.\n",
        "\n",
        "Мы уже узнали метод для подсчёта степеней вершин нашего графа, так что вычисление минимальной, максимальной и средней степени узла является для нас тривиальной задачей.\n",
        "\n",
        ">*Примечание*: G.degree() возвращает объект, содержащий пары *(node, degree)*, по которму мы можем проводить итерацию. Поэтому в функции *min* и *max* следует дополнительно передать функцию, которая укажет, что минимум и максимум надо искать по второму значению в паре. В конце мы также должны будем взять именно второе значение, так как вернётся всё равно пара."
      ],
      "metadata": {
        "id": "uI4GdX2JCvm-"
      },
      "id": "uI4GdX2JCvm-"
    },
    {
      "cell_type": "code",
      "source": [
        "min_degree = min(G.degree(), key=lambda x: x[1])[1]  # Минимальная степень узла \n",
        "max_degree = max(G.degree(), key=lambda x: x[1])[1]  # Максимальная степень узла \n",
        "average_degree = sum((d for (_, d) in G.degree()))/V # Средняя степень узла"
      ],
      "metadata": {
        "id": "D9stY1o4DfE1"
      },
      "id": "D9stY1o4DfE1",
      "execution_count": null,
      "outputs": []
    },
    {
      "cell_type": "markdown",
      "source": [
        "Теперь мы можем построить наши функции вероятности как зависимости между интервалом значений от минимальной до максимальной степени узла и относительнами частотами (эмприческими вероятностями) появления этих степеней среди степеней вершин графа.\n",
        "\n",
        "Сперва зададим наши интервалы:"
      ],
      "metadata": {
        "id": "WmecUx-SEZ_s"
      },
      "id": "WmecUx-SEZ_s"
    },
    {
      "cell_type": "code",
      "source": [
        "# Создаем одномерный массив из нулей нужной нам размерности\n",
        "frequencies = np.zeros(max_degree-min_degree+1) \n",
        "for (n, d) in G.degree():\n",
        "    # Заполняем массив частот, производя сдвиг по индексу на значение минимальной степени\n",
        "    frequencies[d-min_degree] += 1\n",
        "# В NumPy массив можно сразу поделить на какое-то значение, \n",
        "# чтобы получить массив, где каждый элемент получен из соответствующего\n",
        "# элемента исходного массива, поделенного на это значение                  \n",
        "relative_frequencies = frequencies/V            \n",
        "# Получаем наш интервал степеней с помощью функции, похожей по принципу работы на встроенный range()\n",
        "degrees = np.arange(min_degree, max_degree+1)"
      ],
      "metadata": {
        "id": "G8y7ZyavFQSa"
      },
      "id": "G8y7ZyavFQSa",
      "execution_count": null,
      "outputs": []
    },
    {
      "cell_type": "markdown",
      "source": [
        "Для отрисовки графиков мы можем использовать очень популярную библиотеку Matplotlib. Давайте импортируем из неё нужный нам интерфейс и отрисуем наш график в обычной шкале:"
      ],
      "metadata": {
        "id": "X7WOqroeGM0-"
      },
      "id": "X7WOqroeGM0-"
    },
    {
      "cell_type": "code",
      "source": [
        "import matplotlib.pyplot as plt\n",
        "\n",
        "# Зададим данные по двум осям координат\n",
        "plt.plot(degrees, relative_frequencies)\n",
        "plt.xlabel(\"Степень вершины\")       # Метка для оси абсцисс\n",
        "plt.ylabel(\"Относительная частота\") # Метка для оси ординат\n",
        "# Отрендерим график и выведем его на экран\n",
        "plt.show()"
      ],
      "metadata": {
        "colab": {
          "base_uri": "https://localhost:8080/",
          "height": 279
        },
        "id": "ECmF8SJSGY97",
        "outputId": "39b547ca-7934-4c5b-d74e-5f4e92244782"
      },
      "id": "ECmF8SJSGY97",
      "execution_count": null,
      "outputs": [
        {
          "output_type": "display_data",
          "data": {
            "text/plain": [
              "<Figure size 432x288 with 1 Axes>"
            ],
            "image/png": "[encoded data removed]"
          },
          "metadata": {
            "needs_background": "light"
          }
        }
      ]
    },
    {
      "cell_type": "markdown",
      "source": [
        "А теперь в log-log шкале. Для этого в Matplotlib есть специальный метод:"
      ],
      "metadata": {
        "id": "ZKc-3g2pGwXX"
      },
      "id": "ZKc-3g2pGwXX"
    },
    {
      "cell_type": "code",
      "source": [
        "plt.loglog(degrees, relative_frequencies)\n",
        "plt.show()"
      ],
      "metadata": {
        "colab": {
          "base_uri": "https://localhost:8080/",
          "height": 269
        },
        "id": "6VqzWLTXG2IH",
        "outputId": "6b467bf6-0cb3-43f0-ec5f-1e2249c2ab51"
      },
      "id": "6VqzWLTXG2IH",
      "execution_count": null,
      "outputs": [
        {
          "output_type": "display_data",
          "data": {
            "text/plain": [
              "<Figure size 432x288 with 1 Axes>"
            ],
            "image/png": "[encoded data removed]"
          },
          "metadata": {
            "needs_background": "light"
          }
        }
      ]
    },
    {
      "cell_type": "markdown",
      "source": [
        "## Исследование изменения доли вершин в наибольшей компоненте связности при удалении некоторого процента вершин в графе\n",
        "\n",
        "Наконец, попробуем аровести исследование: как меняется доля вершин в наибольшей компоненте слабой связности, если из сети удаляется:\n",
        "1. случайным образом x% узлов;\n",
        "2. удаляется x% узлов наибольшей степени.\n",
        "\n",
        "Для этого сначала построим список вершин нашего графа, отсортированный по степеням в порядке убывания:"
      ],
      "metadata": {
        "id": "fi6IUj2Z_5QV"
      },
      "id": "fi6IUj2Z_5QV"
    },
    {
      "cell_type": "code",
      "source": [
        "all_nodes_sorted_by_degree, _ = zip(*sorted(G.degree(), key=lambda x: x[1], reverse=True))"
      ],
      "metadata": {
        "id": "2Kh7Pd9qFG6v"
      },
      "id": "2Kh7Pd9qFG6v",
      "execution_count": null,
      "outputs": []
    },
    {
      "cell_type": "markdown",
      "source": [
        "Теперь создадим нужные нам функции, принимающие *x* — процент вершин, подлежащих удалению, а возвращающие долю вершин в наибольшей компоненте связности получившегося графа.\n",
        "\n",
        "Данные функции обе используют метод *remove_nodes_from*, удаляющий вершины, переданные в качестве аргумента, из графа."
      ],
      "metadata": {
        "id": "d6fZejn0Jiwl"
      },
      "id": "d6fZejn0Jiwl"
    },
    {
      "cell_type": "code",
      "source": [
        "def remove_x_percent_nodes(x):\n",
        "    \"\"\"\n",
        "    Функция, случайным образом удаляющая x% вершин в графе и возвращающая\n",
        "    долю вершин в наибольшей компоненте связности получившегося графа\n",
        "    \"\"\"\n",
        "    # Создаём копию нашего графа\n",
        "    H = G.copy()\n",
        "    # Удаляем вершины из выборки нужного нам размера\n",
        "    H.remove_nodes_from(sample(all_nodes_sorted_by_degree, round(x*V/100)))\n",
        "    # Возвращаем долю вершин в наибольшей компоненте связности нового графа\n",
        "    return len(max(nx.connected_components(H), key=len))/nx.number_of_nodes(H)\n",
        "\n",
        "\n",
        "def remove_x_percent_largest_degree_nodes(x):\n",
        "    \"\"\"\n",
        "    Функция, удаляющая x% вершин наибольшей степени в графе и возвращающая\n",
        "    долю вершин в наибольшей компоненте связности получившегося графа\n",
        "    \"\"\"\n",
        "    # Создаём копию нашего графа\n",
        "    H = G.copy()\n",
        "    # Удаляем первые [x*V/100] вершин из нашего отсортированного списка\n",
        "    H.remove_nodes_from(all_nodes_sorted_by_degree[:round(x*V/100)])\n",
        "    # Возвращаем долю вершин в наибольшей компоненте связности нового графа\n",
        "    return len(max(nx.connected_components(H), key=len))/nx.number_of_nodes(H)"
      ],
      "metadata": {
        "id": "TmgTcu1cJ9mh"
      },
      "id": "TmgTcu1cJ9mh",
      "execution_count": null,
      "outputs": []
    },
    {
      "cell_type": "markdown",
      "source": [
        "Теперь приступим к проведению нашего исследования. Предположим, мы хотим отобразить график зависимости нашего *x* от значений вышенаписанных функций.\n",
        "\n",
        "Для второй функции это будет достаточно просто сделать, так как её значения вычисляются однозначно, то есть мы можем просто прогнать её для различных значений *x* от 0 до 100. \n",
        "Давайте сделаем это с единичным шагом:"
      ],
      "metadata": {
        "id": "OLRVHjUEW-uu"
      },
      "id": "OLRVHjUEW-uu"
    },
    {
      "cell_type": "code",
      "source": [
        "# Создаём пустой массив размера 100 для наших долей\n",
        "LD_LCC_vertices_fractions = np.empty(100)\n",
        "\n",
        "# Заполняем массив долей значениями нашей функции\n",
        "for x in range(100):\n",
        "    LD_LCC_vertices_fractions[x] = remove_x_percent_largest_degree_nodes(x)"
      ],
      "metadata": {
        "id": "9gqXn5W1XK4K"
      },
      "id": "9gqXn5W1XK4K",
      "execution_count": null,
      "outputs": []
    },
    {
      "cell_type": "markdown",
      "source": [
        "А теперь построим наш график с помощью уже знакомой нам библиотеки Matplotlib:"
      ],
      "metadata": {
        "id": "J7WTR8Wga0Fg"
      },
      "id": "J7WTR8Wga0Fg"
    },
    {
      "cell_type": "code",
      "source": [
        "# Создаём процентный интервал для отображения графиков\n",
        "percents = np.arange(100)\n",
        "\n",
        "# Создаём наш график и отображаем его\n",
        "plt.plot(percents, LD_LCC_vertices_fractions)\n",
        "plt.xlabel(\"Процент удалённых вершин с наибольшей степенью\")\n",
        "plt.ylabel(\"Доля вершин в наибольшей компоненте связности\")\n",
        "plt.show()"
      ],
      "metadata": {
        "colab": {
          "base_uri": "https://localhost:8080/",
          "height": 305
        },
        "id": "ISrc0YZia6E9",
        "outputId": "a7d54aaf-51bd-406b-ccfd-9d1885b81ebb"
      },
      "id": "ISrc0YZia6E9",
      "execution_count": null,
      "outputs": [
        {
          "output_type": "display_data",
          "data": {
            "text/plain": [
              "<Figure size 432x288 with 1 Axes>"
            ],
            "image/png": "[encoded data removed]"
          },
          "metadata": {
            "needs_background": "light"
          }
        }
      ]
    },
    {
      "cell_type": "markdown",
      "source": [
        "Из получившегося графика, во-первых, видно, что наша наибольшая компонента связности изначально составляет практически весь граф, что мы уже могли успеть заметить из наших предыдущих вычислений в самом начале.\n",
        "\n",
        "Во-вторых, видно, что при удалении из графа уже порядка половины узлов с наибольшими степенями, доля вершин в его наибольшей компоненте становится близка к нулю.\n",
        "\n",
        "Теперь попробуем построить такой же график, но уже для функции удаления случайных вершин. Чтобы получить хорошую репрезентативность, мы будем вычислять результат несколько раз для каждого *x* и усреднять его."
      ],
      "metadata": {
        "id": "r9ormvw7cF3l"
      },
      "id": "r9ormvw7cF3l"
    },
    {
      "cell_type": "code",
      "source": [
        "# Создаём пустой массив размера 100 для наших долей\n",
        "R_LCC_vertices_fractions = np.empty(100)\n",
        "# Установим для начала небольшое количество повторных вычислений\n",
        "M = 10\n",
        "\n",
        "# Заполняем массив долей усреднёнными значениями нашей функции\n",
        "for x in range(100):\n",
        "    sum_of_fractions = 0\n",
        "    for _ in range(M):\n",
        "        sum_of_fractions += remove_x_percent_nodes(x)\n",
        "    # Берем усреднённый результат\n",
        "    R_LCC_vertices_fractions[x] = sum_of_fractions/M"
      ],
      "metadata": {
        "id": "ukKRRKrSqVIe"
      },
      "id": "ukKRRKrSqVIe",
      "execution_count": null,
      "outputs": []
    },
    {
      "cell_type": "markdown",
      "source": [
        "Снова построим график для наглядного представления наших результатов:"
      ],
      "metadata": {
        "id": "k8Yg32RHIlPt"
      },
      "id": "k8Yg32RHIlPt"
    },
    {
      "cell_type": "code",
      "source": [
        "# Создаём наш график и отображаем его\n",
        "plt.plot(percents, R_LCC_vertices_fractions)\n",
        "plt.xlabel(\"Процент случайным образом удалённых вершин\")\n",
        "plt.ylabel(\"Доля вершин в наибольшей компоненте связности\")\n",
        "plt.show()"
      ],
      "metadata": {
        "colab": {
          "base_uri": "https://localhost:8080/",
          "height": 305
        },
        "id": "HTYSt6YwAyIs",
        "outputId": "0712a8c2-4b20-40a4-9b10-4f7e7a19ce9c"
      },
      "id": "HTYSt6YwAyIs",
      "execution_count": null,
      "outputs": [
        {
          "output_type": "display_data",
          "data": {
            "text/plain": [
              "<Figure size 432x288 with 1 Axes>"
            ],
            "image/png": "[encoded data removed]"
          },
          "metadata": {
            "needs_background": "light"
          }
        }
      ]
    },
    {
      "cell_type": "markdown",
      "source": [
        "Как видно, мы получили вполне репрезентативный результат даже без большого количества повторных вычислений.\n",
        "\n",
        "Из полученного графика видно, что мы получили убывание доли вершин в наибольшей компоненте связности пропорциональное логарифму от смещённого и взятого с отрицательным знаком количества удалённых вершин. Для того, чтобы проверить наши догадки, построим другой график."
      ],
      "metadata": {
        "id": "J8gsXU5kIvz2"
      },
      "id": "J8gsXU5kIvz2"
    },
    {
      "cell_type": "code",
      "source": [
        "# Наш исходный график\n",
        "plt.plot(percents, R_LCC_vertices_fractions, color=\"blue\")\n",
        "# График логарифма по основанию 100 от 100-x\n",
        "plt.plot(percents, np.log(100-percents)/np.log(100), color=\"red\")\n",
        "plt.show()"
      ],
      "metadata": {
        "colab": {
          "base_uri": "https://localhost:8080/",
          "height": 265
        },
        "id": "Qtf8gG55JUv3",
        "outputId": "9ae18e46-38a2-4f02-e52a-95cc58954ecf"
      },
      "id": "Qtf8gG55JUv3",
      "execution_count": null,
      "outputs": [
        {
          "output_type": "display_data",
          "data": {
            "text/plain": [
              "<Figure size 432x288 with 1 Axes>"
            ],
            "image/png": "[encoded data removed]"
          },
          "metadata": {
            "needs_background": "light"
          }
        }
      ]
    },
    {
      "cell_type": "markdown",
      "source": [
        "Интерпретация данного наблюдения оставляется в качестве упражнения читателю :)"
      ],
      "metadata": {
        "id": "oBqTdJy7fc0g"
      },
      "id": "oBqTdJy7fc0g"
    }
  ],
  "metadata": {
    "kernelspec": {
      "display_name": "Python 3 (ipykernel)",
      "language": "python",
      "name": "python3"
    },
    "language_info": {
      "codemirror_mode": {
        "name": "ipython",
        "version": 3
      },
      "file_extension": ".py",
      "mimetype": "text/x-python",
      "name": "python",
      "nbconvert_exporter": "python",
      "pygments_lexer": "ipython3",
      "version": "3.10.0"
    },
    "colab": {
      "name": "Astrophysics articles graph analysis.ipynb",
      "provenance": [],
      "collapsed_sections": [],
      "include_colab_link": true
    }
  },
  "nbformat": 4,
  "nbformat_minor": 5
}